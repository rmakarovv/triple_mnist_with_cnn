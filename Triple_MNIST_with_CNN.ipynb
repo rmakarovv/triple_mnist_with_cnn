{
  "cells": [
    {
      "cell_type": "markdown",
      "source": [
        "    author: Roman Makarov\n",
        "    e-mail: mcronomus@gmail.com"
      ],
      "metadata": {
        "id": "MQ2QlCf3zAyx"
      }
    },
    {
      "cell_type": "markdown",
      "metadata": {
        "id": "oGMrDL5JLPU9"
      },
      "source": [
        "#CNN for Triple MNIST classification"
      ]
    },
    {
      "cell_type": "markdown",
      "source": [
        "####Data preparation and creation of data loaders"
      ],
      "metadata": {
        "id": "rY6Z22G42RoR"
      }
    },
    {
      "cell_type": "code",
      "source": [
        "!gdown 1DtWT_0JuLzvAoysUcH0j5mbcVFL7Y45T"
      ],
      "metadata": {
        "colab": {
          "base_uri": "https://localhost:8080/"
        },
        "id": "YSs61Tz-ckOw",
        "outputId": "88e6ae96-cf46-4992-b237-ab9ccec97963"
      },
      "execution_count": 1,
      "outputs": [
        {
          "output_type": "stream",
          "name": "stdout",
          "text": [
            "Downloading...\n",
            "From: https://drive.google.com/uc?id=1DtWT_0JuLzvAoysUcH0j5mbcVFL7Y45T\n",
            "To: /content/triple_mnist.zip\n",
            "100% 85.7M/85.7M [00:00<00:00, 115MB/s] \n"
          ]
        }
      ]
    },
    {
      "cell_type": "code",
      "source": [
        "%%capture\n",
        "!unzip triple_mnist.zip"
      ],
      "metadata": {
        "id": "FlKZD3JPaHM6"
      },
      "execution_count": 2,
      "outputs": []
    },
    {
      "cell_type": "code",
      "execution_count": 3,
      "metadata": {
        "id": "Cszd-0-gIETQ"
      },
      "outputs": [],
      "source": [
        "import torch\n",
        "from torch.utils import data\n",
        "from torchvision import datasets, transforms"
      ]
    },
    {
      "cell_type": "code",
      "source": [
        "import os\n",
        "from PIL import Image\n",
        "from torch.utils.data import Dataset, DataLoader\n",
        "\n",
        "img_path = 'triple_mnist'\n",
        "\n",
        "class ImageDataset(Dataset):\n",
        "  def __init__(self, img_path, transform, to_perform=False, transform_2=-1):\n",
        "    self.path = img_path\n",
        "    self.folder = [x for x in os.listdir(img_path)]\n",
        "\n",
        "    self.images = []\n",
        "    for x in self.folder:\n",
        "        for y in os.listdir(img_path + '/' + x):\n",
        "            self.images.append((img_path + '/' + x + '/' + y, 0))\n",
        "\n",
        "            if type(transform_2) is not int:\n",
        "                self.images.append((img_path + '/' + x + '/' + y, 1))\n",
        "\n",
        "    self.transform = transform\n",
        "    self.transform_2 = transform_2\n",
        "\n",
        "  def __len__(self):\n",
        "    return len(self.images)\n",
        "\n",
        "  def __getitem__(self, idx):\n",
        "    img_loc = self.images[idx][0]\n",
        "    type_ = self.images[idx][1]\n",
        "\n",
        "    image = Image.open(img_loc).convert('RGB')\n",
        "\n",
        "    if type_ == 0 or type(self.transform_2) is int:\n",
        "        single_img = self.transform(image)\n",
        "    else:\n",
        "        single_img = self.transform_2(image)\n",
        "\n",
        "    general_label = self.images[idx][0].split('/')[-1].split('.')[0].split('_')[-1]\n",
        "\n",
        "    label1 = int(general_label[0])\n",
        "    label2 = int(general_label[1])\n",
        "    label3 = int(general_label[2])\n",
        "\n",
        "    sample = {'image':single_img, 'labels': {0:label1, 1:label2, 2:label3}}\n",
        "\n",
        "    return sample"
      ],
      "metadata": {
        "id": "XPdcHgEpcRnI"
      },
      "execution_count": 4,
      "outputs": []
    },
    {
      "cell_type": "code",
      "source": [
        "def imshow(inp):\n",
        "    inp = inp.numpy()[0]\n",
        "    mean = 0.1307\n",
        "    std = 0.3081\n",
        "    inp = inp * std + mean\n",
        "    plt.imshow(inp, cmap='gray')\n",
        "    plt.show()"
      ],
      "metadata": {
        "id": "5fiKNeDjA3h6"
      },
      "execution_count": 5,
      "outputs": []
    },
    {
      "cell_type": "code",
      "source": [
        "batch_size_train = 128\n",
        "batch_size_test = 128\n",
        "batch_size_val = 128\n",
        "\n",
        "data_transforms = transforms.Compose([transforms.Grayscale(num_output_channels=1),\n",
        "                                      transforms.ToTensor()])\n",
        "\n",
        "data_transforms_train = transforms.Compose([transforms.Grayscale(num_output_channels=1),\n",
        "                                            transforms.RandomRotation(15),\n",
        "                                            transforms.Resize((84, 84)),\n",
        "                                            transforms.ToTensor()])\n",
        "train_dataset = ImageDataset(img_path + '/train', data_transforms, True, data_transforms_train)\n",
        "\n",
        "train_loader = DataLoader(train_dataset, batch_size=batch_size_train, shuffle=True,\n",
        "                                num_workers=2)\n",
        "\n",
        "test_dataset = ImageDataset(img_path + '/test', data_transforms, False)\n",
        "test_loader = DataLoader(test_dataset, batch_size=batch_size_test, shuffle=True,\n",
        "                               num_workers=2)\n",
        "\n",
        "val_dataset = ImageDataset(img_path + '/val', data_transforms, False)\n",
        "val_loader = DataLoader(val_dataset, batch_size=batch_size_val, shuffle=True,\n",
        "                               num_workers=2)"
      ],
      "metadata": {
        "id": "gx7411QXc2uA"
      },
      "execution_count": 6,
      "outputs": []
    },
    {
      "cell_type": "markdown",
      "source": [
        "####Creating CNN model and testing it on dataset"
      ],
      "metadata": {
        "id": "V4C_9fV82a7z"
      }
    },
    {
      "cell_type": "code",
      "source": [
        "from time import time\n",
        "import numpy as np\n",
        "\n",
        "def train(model, device, epochs, train_loader, loss_func):\n",
        "    n_total_steps = len(train_loader)\n",
        "    start_time = time()\n",
        "\n",
        "    correct = 0\n",
        "    all = 0\n",
        "\n",
        "    for i, pictures in enumerate(train_loader):\n",
        "        images = pictures['image'].to(device)\n",
        "\n",
        "        outputs = model(images).to(device)\n",
        "\n",
        "        loss = 0\n",
        "        correct_cur = np.zeros((outputs.shape[0], 3))\n",
        "\n",
        "        for ii in range(3):\n",
        "            outputs_i = outputs[:, ii * 10 : (ii + 1) * 10]\n",
        "            pred = outputs_i.argmax(dim=1, keepdim=True).to(device)\n",
        "\n",
        "            correct_pred = pred.eq(pictures['labels'][ii].view_as(pred).to(device)).cpu().detach().numpy().astype(int)\n",
        "            for j in range(outputs.shape[1]):\n",
        "                correct_cur[j][ii] += correct_pred[j]\n",
        "                if ii == 2 and correct_cur[j].sum() == 3:\n",
        "                    correct += 1\n",
        "\n",
        "            loss += loss_func(outputs[:, ii * 10 : (ii + 1) * 10], pictures['labels'][ii].to(device)).to(device)\n",
        "\n",
        "        all += outputs.shape[1]\n",
        "\n",
        "        optimizer.zero_grad()\n",
        "        loss.backward()\n",
        "        optimizer.step()\n",
        "\n",
        "        if (i + 1) % 20 == 0:\n",
        "            print(f'\\rTrain Epoch [{epoch}],',\n",
        "                    f'Step [{i + 1}/{n_total_steps}],',\n",
        "                    f'Loss: {loss:.2f},',\n",
        "                    f'Accuracy: {100. * correct / all:.2f}%',\n",
        "                    f'elapsed time: {time() - start_time:.2f}s',\n",
        "                    end='')\n",
        "    print()\n",
        "\n",
        "def test(model, device, test_loader, loss_func, type_of_test='Test'):\n",
        "    model.eval()\n",
        "    test_loss = 0\n",
        "    correct = 0\n",
        "    all = 0\n",
        "\n",
        "    with torch.no_grad():\n",
        "        for i, pictures in enumerate(test_loader):\n",
        "            images = pictures['image'].to(device)\n",
        "            pictures = pictures\n",
        "\n",
        "            outputs = model(images)\n",
        "\n",
        "            correct_cur = np.zeros((outputs.shape[0], 3))\n",
        "\n",
        "            for ii in range(3):\n",
        "                outputs_i = outputs[:, ii * 10 : (ii + 1) * 10]\n",
        "                pred = outputs_i.argmax(dim=1, keepdim=True)\n",
        "\n",
        "                correct_pred = pred.eq(pictures['labels'][ii].view_as(pred).to(device)).cpu().detach().numpy().astype(int)\n",
        "                for j in range(outputs.shape[1]):\n",
        "                    correct_cur[j][ii] += correct_pred[j]\n",
        "                    if ii == 2 and correct_cur[j].sum() == 3:\n",
        "                        correct += 1\n",
        "\n",
        "                test_loss += loss_func(outputs[:, ii * 10 : (ii + 1) * 10], pictures['labels'][ii].to(device))\n",
        "\n",
        "            all += outputs.shape[1]\n",
        "\n",
        "    test_loss /= len(test_loader.dataset)\n",
        "\n",
        "    print(f'{type_of_test} set: Average loss: {test_loss:.2f}, Accuracy: {100. * correct / all:.2f}%')\n",
        "\n",
        "    return 100. * correct / all"
      ],
      "metadata": {
        "id": "LNKZI5Pr1zrl"
      },
      "execution_count": 7,
      "outputs": []
    },
    {
      "cell_type": "markdown",
      "source": [
        "####Model with 3 convolutional layers"
      ],
      "metadata": {
        "id": "gi5VUgkcDNLx"
      }
    },
    {
      "cell_type": "code",
      "source": [
        "import torch\n",
        "import torch.nn as nn\n",
        "import torch.nn.functional as F\n",
        "\n",
        "class Net(nn.Module):\n",
        "    def __init__(self, n_digits=10):\n",
        "        super().__init__()\n",
        "\n",
        "        self.general = nn.Sequential(\n",
        "            nn.Conv2d(in_channels=1, out_channels=24, kernel_size=3, stride=1, padding=1),\n",
        "            nn.ReLU(),\n",
        "            nn.MaxPool2d(kernel_size=2),\n",
        "            nn.BatchNorm2d(24),\n",
        "            nn.Conv2d(in_channels=24, out_channels=24, kernel_size=3, stride=1, padding=1),\n",
        "            nn.ReLU(),\n",
        "            nn.MaxPool2d(kernel_size=2),\n",
        "            nn.BatchNorm2d(24),\n",
        "            nn.Conv2d(in_channels=24, out_channels=12, kernel_size=3, stride=1, padding=1),\n",
        "            nn.ReLU(),\n",
        "            nn.MaxPool2d(kernel_size=2),\n",
        "            nn.BatchNorm2d(12),\n",
        "        )\n",
        "\n",
        "        self.label = nn.Sequential(\n",
        "            nn.Linear(in_features = 10 * 10 * 12, out_features = 64),\n",
        "            nn.Dropout(p=0.2),\n",
        "            nn.Linear(in_features = 64, out_features = n_digits * 3)\n",
        "        )\n",
        "\n",
        "    def forward(self, x):\n",
        "        x = self.general(x)\n",
        "        x = torch.flatten(x, 1)\n",
        "        x = self.label(x)\n",
        "        return x"
      ],
      "metadata": {
        "id": "-7VCji0ijrhU"
      },
      "execution_count": 8,
      "outputs": []
    },
    {
      "cell_type": "code",
      "source": [
        "batch_size_train = 128\n",
        "batch_size_test = 128\n",
        "batch_size_val = 128\n",
        "\n",
        "data_transforms = transforms.Compose([transforms.Grayscale(num_output_channels=1),\n",
        "                                      transforms.ToTensor()])\n",
        "\n",
        "data_transforms_train = transforms.Compose([transforms.Grayscale(num_output_channels=1),\n",
        "                                            transforms.RandomRotation(15),\n",
        "                                            transforms.Resize((84, 84)),\n",
        "                                            transforms.ToTensor()])\n",
        "\n",
        "train_dataset = ImageDataset(img_path + '/train', data_transforms, True, data_transforms_train)\n",
        "\n",
        "train_loader = DataLoader(train_dataset, batch_size=batch_size_train, shuffle=True,\n",
        "                                num_workers=2)\n",
        "\n",
        "test_dataset = ImageDataset(img_path + '/test', data_transforms, False)\n",
        "test_loader = DataLoader(test_dataset, batch_size=batch_size_test, shuffle=True,\n",
        "                               num_workers=2)\n",
        "\n",
        "val_dataset = ImageDataset(img_path + '/val', data_transforms, False)\n",
        "val_loader = DataLoader(val_dataset, batch_size=batch_size_val, shuffle=True,\n",
        "                               num_workers=2)\n",
        "\n",
        "import torch.optim as optim\n",
        "\n",
        "lr = 0.005\n",
        "\n",
        "device = torch.device('cuda' if torch.cuda.is_available() else 'cpu')\n",
        "model = Net(10).to(device)\n",
        "\n",
        "optimizer = torch.optim.Adam(model.parameters(), lr=lr)\n",
        "loss_func = nn.CrossEntropyLoss()\n",
        "\n",
        "epoch_nums = []\n",
        "validation_loss = []\n",
        "current_count = 0\n",
        "\n",
        "epochs = 10\n",
        "print('Training on:', device, '\\n')\n",
        "for epoch in range(1, epochs + 1):\n",
        "        train(model=model, device=device, train_loader=train_loader, epochs=epoch, loss_func=loss_func)\n",
        "\n",
        "        test_accuracy = test(model=model, device=device, test_loader=test_loader, loss_func=loss_func)\n",
        "\n",
        "        if epoch > 1:\n",
        "            if test_accuracy - validation_loss[-1] < 0.5:\n",
        "                current_count += 1\n",
        "            else:\n",
        "                current_count = 0\n",
        "\n",
        "        epoch_nums.append(epoch)\n",
        "        validation_loss.append(test_accuracy)\n",
        "\n",
        "        if current_count > 1:\n",
        "            print(f'Early stopping on epoch: {epoch}')\n",
        "            break\n",
        "\n",
        "print('\\nProceeding to validation...')\n",
        "val_acc = test(model=model, device=device, test_loader=val_loader, loss_func=loss_func, type_of_test='Validation')"
      ],
      "metadata": {
        "id": "biFayTjtVALv",
        "colab": {
          "base_uri": "https://localhost:8080/"
        },
        "outputId": "175654fb-b685-4da8-d70f-52f6716a0f71"
      },
      "execution_count": 9,
      "outputs": [
        {
          "output_type": "stream",
          "name": "stdout",
          "text": [
            "Training on: cuda \n",
            "\n",
            "Train Epoch [1], Step [1000/1000], Loss: 0.46, Accuracy: 76.77% elapsed time: 65.18s\n",
            "Test set: Average loss: 0.01, Accuracy: 66.77%\n",
            "Train Epoch [2], Step [1000/1000], Loss: 0.15, Accuracy: 88.26% elapsed time: 51.68s\n",
            "Test set: Average loss: 0.00, Accuracy: 91.89%\n",
            "Train Epoch [3], Step [1000/1000], Loss: 0.27, Accuracy: 92.80% elapsed time: 51.48s\n",
            "Test set: Average loss: 0.00, Accuracy: 93.27%\n",
            "Train Epoch [4], Step [1000/1000], Loss: 0.17, Accuracy: 93.48% elapsed time: 51.68s\n",
            "Test set: Average loss: 0.00, Accuracy: 93.08%\n",
            "Train Epoch [5], Step [1000/1000], Loss: 0.12, Accuracy: 93.96% elapsed time: 52.13s\n",
            "Test set: Average loss: 0.00, Accuracy: 94.54%\n",
            "Train Epoch [6], Step [1000/1000], Loss: 0.20, Accuracy: 94.16% elapsed time: 51.79s\n",
            "Test set: Average loss: 0.00, Accuracy: 94.25%\n",
            "Train Epoch [7], Step [1000/1000], Loss: 0.15, Accuracy: 94.26% elapsed time: 52.10s\n",
            "Test set: Average loss: 0.00, Accuracy: 93.99%\n",
            "Early stopping on epoch: 7\n",
            "\n",
            "Proceeding to validation...\n",
            "Validation set: Average loss: 0.00, Accuracy: 94.64%\n"
          ]
        }
      ]
    },
    {
      "cell_type": "markdown",
      "source": [
        "####Demonstrating an example"
      ],
      "metadata": {
        "id": "8MqGhDv1CPZJ"
      }
    },
    {
      "cell_type": "code",
      "source": [
        "import matplotlib.pyplot as plt\n",
        "res = next(iter(train_loader))\n",
        "images = res['image'].to(device)\n",
        "labels = res['labels']\n",
        "\n",
        "def get_label(labels, idx):\n",
        "    return f\"{labels[0][idx].item()}{labels[1][idx].item()}{labels[2][idx].item()}\"\n",
        "\n",
        "print('Label=', get_label(labels, 0))\n",
        "\n",
        "predict = model(images)[0]\n",
        "p_v = []\n",
        "for i in range(3):\n",
        "    predict_i = predict[i * 10 : (i + 1) * 10]\n",
        "    pred = predict_i.argmax(dim=0, keepdim=True)\n",
        "    p_v.append(pred.item())\n",
        "\n",
        "print(f'Predicted label {p_v[0]}{p_v[1]}{p_v[2]}')\n",
        "\n",
        "imshow(images[0].cpu())"
      ],
      "metadata": {
        "id": "xKbflaaw8Mgo",
        "colab": {
          "base_uri": "https://localhost:8080/",
          "height": 468
        },
        "outputId": "56394da8-b3ea-45ab-c26e-0c1d0b95d77c"
      },
      "execution_count": 10,
      "outputs": [
        {
          "output_type": "stream",
          "name": "stdout",
          "text": [
            "Label= 581\n",
            "Predicted label 581\n"
          ]
        },
        {
          "output_type": "display_data",
          "data": {
            "text/plain": [
              "<Figure size 640x480 with 1 Axes>"
            ],
            "image/png": "[encoded data removed]"
          },
          "metadata": {}
        }
      ]
    },
    {
      "cell_type": "markdown",
      "source": [
        "####Measuring time taken to predict 50 samples"
      ],
      "metadata": {
        "id": "TrjnjXBzmmwv"
      }
    },
    {
      "cell_type": "code",
      "source": [
        "from time import time\n",
        "\n",
        "def measure(model, device, test_loader, task_n=1):\n",
        "    model.eval()\n",
        "    test_loss = 0\n",
        "    correct = 0\n",
        "    all = 0\n",
        "\n",
        "    start = time()\n",
        "    with torch.no_grad():\n",
        "        for i, pictures in enumerate(test_loader):\n",
        "            images = pictures['image'].to(device)\n",
        "            pictures = pictures\n",
        "\n",
        "            outputs = model(images)\n",
        "            break\n",
        "\n",
        "    end = time()\n",
        "    print(f'Time to predict 50 samples for CNN model: {end - start:.2f}s')"
      ],
      "metadata": {
        "id": "vquYODBUejcj"
      },
      "execution_count": 11,
      "outputs": []
    },
    {
      "cell_type": "code",
      "source": [
        "batch_size_train = 50\n",
        "\n",
        "data_transforms = transforms.Compose([transforms.Grayscale(num_output_channels=1),\n",
        "                                      transforms.ToTensor()])\n",
        "\n",
        "measure_dataset = ImageDataset(img_path + '/train', data_transforms, False)\n",
        "\n",
        "measure_loader = DataLoader(measure_dataset, batch_size=batch_size_train, shuffle=True,\n",
        "                                num_workers=2)\n",
        "\n",
        "import torch.optim as optim\n",
        "\n",
        "lr = 0.005\n",
        "\n",
        "device = torch.device('cuda' if torch.cuda.is_available() else 'cpu')\n",
        "model = Net(10).to(device)\n",
        "\n",
        "optimizer = torch.optim.Adam(model.parameters(), lr=lr)\n",
        "loss_func = nn.CrossEntropyLoss()\n",
        "\n",
        "epoch_nums = []\n",
        "validation_loss = []\n",
        "current_count = 0\n",
        "\n",
        "measure(model=model, device=device, test_loader=measure_loader, task_n=2)"
      ],
      "metadata": {
        "id": "Jq47K44uggFm",
        "colab": {
          "base_uri": "https://localhost:8080/"
        },
        "outputId": "9c940fb6-a42c-45eb-96dc-f092185645cb"
      },
      "execution_count": 12,
      "outputs": [
        {
          "output_type": "stream",
          "name": "stdout",
          "text": [
            "Time to predict 50 samples for CNN model: 0.24s\n"
          ]
        }
      ]
    }
  ],
  "metadata": {
    "colab": {
      "provenance": [],
      "gpuType": "T4",
      "toc_visible": true
    },
    "kernelspec": {
      "display_name": "Python 3",
      "name": "python3"
    },
    "language_info": {
      "codemirror_mode": {
        "name": "ipython",
        "version": 3
      },
      "file_extension": ".py",
      "mimetype": "text/x-python",
      "name": "python",
      "nbconvert_exporter": "python",
      "pygments_lexer": "ipython3",
      "version": "3.10.7"
    },
    "accelerator": "GPU"
  },
  "nbformat": 4,
  "nbformat_minor": 0
}